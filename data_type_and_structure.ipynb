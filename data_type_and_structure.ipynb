{
  "nbformat": 4,
  "nbformat_minor": 0,
  "metadata": {
    "colab": {
      "provenance": []
    },
    "kernelspec": {
      "name": "python3",
      "display_name": "Python 3"
    },
    "language_info": {
      "name": "python"
    }
  },
  "cells": [
    {
      "cell_type": "markdown",
      "source": [
        "# data type and structure\n",
        ""
      ],
      "metadata": {
        "id": "FEwXhBmbBNV8"
      }
    },
    {
      "cell_type": "markdown",
      "source": [
        "1. What are data structures, and why are they important?\n",
        "   - A data structure is a way of organizing, storing, and managing data so that it can be used efficiently. Different types of data structures are used depending on the requirements of the application, such as searching, sorting, inserting, deleting, and accessing data.\n",
        "   - they sre important because they are :- effciency , stable , faster processing,\n",
        "\n",
        "2. Explain the difference between mutable and immutable data types with examples\n",
        "   - mutable :- Mutable objects allow modifications without creating a new object in memory\n",
        "   eg :- list , dictonary , sets\n",
        "   - immutable :- immutasble object did not allow modification after creating\n",
        "   eg :- tuples, string , bool\n",
        "\n",
        "3. What are the main differences between lists and tuples in Python?\n",
        "   - list are mutable and tuples are immutable list are made in [] but tuples are ()\n",
        "\n",
        "4. Describe how dictionaries store data?\n",
        "   - dictonaries stores data in key value pair\n",
        "   eg:- a = {\"name\": \"arin\"} where name is key and arin is value\n",
        "\n",
        "5. Why might you use a set instead of a list in Python?\n",
        "   - we use sets because sets automatically remove all duplicate value where as list allow duplicate value\n",
        "   - checking element is more easy in sets because it is faster\n",
        "\n",
        "6. What is a string in Python, and how is it different from a list?\n",
        "   - string are sequence of character which enclose in \"\" or ''\n",
        "   - string only holds character but list holds any data type\n",
        "\n",
        "7. How do tuples ensure data integrity in Python?\n",
        "   - it ensure data integrity because it is immutable so it prevent accidental changes\n",
        "   - Prevents Unintentional Data Modifications in Functions\n",
        "\n",
        "8. What is a hash table, and how does it relate to dictionaries in Python?\n",
        "   - A hash table (also called a hash map) is a data structure that stores key-value pairs. It uses a hash function to compute an index (or \"hash\") where each key-value pair is stored.\n",
        "   - it relate to dictonary because it also store key value pair\n",
        "\n",
        "9. Can lists contain different data types in Python?\n",
        "   - yes list can conatin different data types in python\n",
        "   - eg:- [1,2,3,\"string\",[1,2,3],{\"name\": \"arin\"}]\n",
        "\n",
        "10. Explain why strings are immutable in Python?\n",
        "    - string are immutable because it gives more efficiency more stability\n",
        "    \n",
        "11. What advantages do dictionaries offer over lists for certain tasks?\n",
        "    - fastre lookup, better organisation with key value pair, no duplicate keys\n",
        "\n",
        "12. Describe a scenario where using a tuple would be preferable over a list?\n",
        "    - when we working with geographical data like storing coordinate of a location which cannot be change\n",
        "\n",
        "13. How do sets handle duplicate values in Python?\n",
        "    - In Python, sets automatically remove duplicates when they are created\n",
        "    -  If you attempt to add a duplicate value to a set, it simply ignores it, maintaining the uniqueness of the set's contents\n",
        "\n",
        "14.  How does the “in” keyword work differently for lists and dictionaries?\n",
        "     - The in keyword works differently for lists and dictionaries in Python, because it checks for membership in different ways depending on the data structure\n",
        "     - if we want to check a element in a list let a be the element so we write\n",
        "       if a is my_list\n",
        "     - When you use in with a dictionary, the behavior is different. It checks whether the key is present in the dictionary, not the value.\n",
        "\n",
        "15. Can you modify the elements of a tuple? Explain why or why not?\n",
        "    - no we can not modified element in tuples because it is immutable\n",
        "    - because tuples are immutable they can not be modified after creating\n",
        "\n",
        "16. What is a nested dictionary, and give an example of its use case?\n",
        "    - A nested dictionary in Python is simply a dictionary where the values themselves are dictionaries\n",
        "    - eg:- students = {\n",
        "    \"Alice\": {\n",
        "        \"math\": 95,\n",
        "        \"english\": 88,\n",
        "        \"science\": 92\n",
        "    },\n",
        "    \"Bob\": {\n",
        "        \"math\": 78,\n",
        "        \"english\": 85,\n",
        "        \"science\": 80\n",
        "    },\n",
        "    \"Charlie\": {\n",
        "        \"math\": 88,\n",
        "        \"english\": 90,\n",
        "        \"science\": 85\n",
        "    }\n",
        "}\n",
        "\n",
        "17. Describe the time complexity of accessing elements in a dictionary?\n",
        "    - time complexity of accesing element in dictonary is O(1)\n",
        "\n",
        "18. In what situations are lists preferred over dictionaries?\n",
        "    - when we want to store information which changes with time and modifiend with respect to time\n",
        "    - and when we did not want to store key value pair\n",
        "\n",
        "19. Why are dictionaries considered unordered, and how does that affect data retrieval?\n",
        "    - A dictionary in Python is considered unordered because the key-value pairs are not stored in any specific order. This is due to the way dictionaries are implemented—using a hash table—which does not maintain the order of elements based on their insertion sequence or any other criteria\n",
        "    - it affect data retrieval by :- Accessing Elements (By Key), Iteration Over Keys\n",
        "\n",
        ""
      ],
      "metadata": {
        "id": "Dy6SUmKsBXBw"
      }
    },
    {
      "cell_type": "code",
      "execution_count": null,
      "metadata": {
        "id": "zaVAJ1MS_5vT"
      },
      "outputs": [],
      "source": []
    },
    {
      "cell_type": "markdown",
      "source": [],
      "metadata": {
        "id": "FI5rqjwPAFQa"
      }
    }
  ]
}